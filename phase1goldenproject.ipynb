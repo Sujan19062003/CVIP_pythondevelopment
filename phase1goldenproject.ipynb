{
  "nbformat": 4,
  "nbformat_minor": 0,
  "metadata": {
    "colab": {
      "provenance": [],
      "authorship_tag": "ABX9TyO7aNmhUyO+wp7bug3Y9vvG",
      "include_colab_link": true
    },
    "kernelspec": {
      "name": "python3",
      "display_name": "Python 3"
    },
    "language_info": {
      "name": "python"
    }
  },
  "cells": [
    {
      "cell_type": "markdown",
      "metadata": {
        "id": "view-in-github",
        "colab_type": "text"
      },
      "source": [
        "<a href=\"https://colab.research.google.com/github/Sujan19062003/CVIP_pythondevelopment/blob/main/phase1goldenproject.ipynb\" target=\"_parent\"><img src=\"https://colab.research.google.com/assets/colab-badge.svg\" alt=\"Open In Colab\"/></a>"
      ]
    },
    {
      "cell_type": "code",
      "execution_count": null,
      "metadata": {
        "id": "4ahDO46drBiB"
      },
      "outputs": [],
      "source": [
        "import random\n",
        "\n",
        "import string\n",
        "a=string.ascii_letters\n",
        "b=string.punctuation\n",
        "c=string.digits\n",
        "\n",
        "password= a+b+c\n",
        "num=int(input(\"Enter the length of the password you wanna make\"))\n",
        "for i in range(100):\n",
        "  d=\"\".join(random.sample(password,num))\n",
        "  print(\"password is \",d)\n",
        "  satisfaction=input(\"Enter if satisfied or not\")\n",
        "  if satisfaction==\"yes\":\n",
        "    print(\"So final password is \",d)\n",
        "    break\n"
      ]
    }
  ]
}