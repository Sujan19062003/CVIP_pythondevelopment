{
  "nbformat": 4,
  "nbformat_minor": 0,
  "metadata": {
    "colab": {
      "provenance": [],
      "authorship_tag": "ABX9TyO1PlqpzLvW+NYST7tz3XfL",
      "include_colab_link": true
    },
    "kernelspec": {
      "name": "python3",
      "display_name": "Python 3"
    },
    "language_info": {
      "name": "python"
    }
  },
  "cells": [
    {
      "cell_type": "markdown",
      "metadata": {
        "id": "view-in-github",
        "colab_type": "text"
      },
      "source": [
        "<a href=\"https://colab.research.google.com/github/Sujan19062003/CVIP_pythondevelopment/blob/main/phase1normalproject.ipynb\" target=\"_parent\"><img src=\"https://colab.research.google.com/assets/colab-badge.svg\" alt=\"Open In Colab\"/></a>"
      ]
    },
    {
      "cell_type": "markdown",
      "source": [
        "//Simpe calculator program"
      ],
      "metadata": {
        "id": "hpM2-4brfjJT"
      }
    },
    {
      "cell_type": "code",
      "source": [
        "n=int(input(\"Enter the number of times you wanna perform different operations\"))\n",
        "for i in range(n):\n",
        "  num1=int(input(\"Enter the first number\"))\n",
        "  num2=int(input(\"Enter the second number\"))\n",
        "  operator=input(\"Enter the operation you wanna perform\")\n",
        "  if operator==\"+\":\n",
        "    answer=num1+num2\n",
        "  elif operator==\"-\":\n",
        "    answer=num1-num2\n",
        "  elif operator==\"/\":\n",
        "    answer=num1/num2\n",
        "  elif operator==\"*\":\n",
        "    answer=num1*num2\n",
        "  else:\n",
        "    print(\"Enter a valid operator\")\n",
        "  print(\"The answer is \",answer)\n"
      ],
      "metadata": {
        "colab": {
          "base_uri": "https://localhost:8080/"
        },
        "id": "m5JMgcHzfot_",
        "outputId": "abbd1e13-3916-4fac-f423-6826e23f7b5d"
      },
      "execution_count": 8,
      "outputs": [
        {
          "output_type": "stream",
          "name": "stdout",
          "text": [
            "Enter the number of times you wanna perform different operations4\n",
            "Enter the first number4\n",
            "Enter the second number5\n",
            "Enter the operation you wanna perform+\n",
            "The answer is  9\n",
            "Enter the first number5\n",
            "Enter the second number7\n",
            "Enter the operation you wanna perform-\n",
            "The answer is  -2\n",
            "Enter the first number3\n",
            "Enter the second number8\n",
            "Enter the operation you wanna perform*\n",
            "The answer is  24\n",
            "Enter the first number9\n",
            "Enter the second number3\n",
            "Enter the operation you wanna perform/\n",
            "The answer is  3.0\n"
          ]
        }
      ]
    }
  ]
}