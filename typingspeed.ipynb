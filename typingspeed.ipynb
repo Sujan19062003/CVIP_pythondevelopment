{
  "nbformat": 4,
  "nbformat_minor": 0,
  "metadata": {
    "colab": {
      "provenance": [],
      "authorship_tag": "ABX9TyNj2PI+ub3rp6D+8lxBOVLA",
      "include_colab_link": true
    },
    "kernelspec": {
      "name": "python3",
      "display_name": "Python 3"
    },
    "language_info": {
      "name": "python"
    }
  },
  "cells": [
    {
      "cell_type": "markdown",
      "metadata": {
        "id": "view-in-github",
        "colab_type": "text"
      },
      "source": [
        "<a href=\"https://colab.research.google.com/github/Sujan19062003/CVIP_pythondevelopment/blob/main/typingspeed.ipynb\" target=\"_parent\"><img src=\"https://colab.research.google.com/assets/colab-badge.svg\" alt=\"Open In Colab\"/></a>"
      ]
    },
    {
      "cell_type": "code",
      "execution_count": null,
      "metadata": {
        "colab": {
          "base_uri": "https://localhost:8080/"
        },
        "id": "xxxxazjaZrOc",
        "outputId": "5a3b0aa2-35ce-4749-8025-f2c58a1bc3a8"
      },
      "outputs": [
        {
          "output_type": "stream",
          "name": "stdout",
          "text": [
            "A sample statement to check typing speed of a person\n",
            "Enter the above statement as fast as possibleA sample statement to check typing speed of a person\n",
            "Words per minute is  0.45404007216180814\n"
          ]
        }
      ],
      "source": [
        "import time\n",
        "sentence=\"A sample statement to check typing speed of a person\"\n",
        "word_count=len(sentence.split())\n",
        "print(sentence)\n",
        "while True:\n",
        "  t1=time.time()\n",
        "  typed_text=str(input(\"Enter the above statement as fast as possible\"))\n",
        "  t2=time.time()\n",
        "  time_taken=t2-t1\n",
        "  words_per_min=(word_count)/(time_taken)\n",
        "  print(\"Words per minute is \",words_per_min)\n",
        "\n",
        "\n"
      ]
    }
  ]
}